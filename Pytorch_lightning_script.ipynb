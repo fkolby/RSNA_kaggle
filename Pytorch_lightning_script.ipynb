{
 "cells": [
  {
   "cell_type": "code",
   "execution_count": 1,
   "metadata": {},
   "outputs": [],
   "source": [
    "rerun = True"
   ]
  },
  {
   "cell_type": "code",
   "execution_count": null,
   "metadata": {},
   "outputs": [],
   "source": []
  },
  {
   "cell_type": "code",
   "execution_count": 2,
   "metadata": {},
   "outputs": [
    {
     "name": "stdout",
     "output_type": "stream",
     "text": [
      "Requirement already satisfied: timm in /home/frederik/anaconda3/lib/python3.9/site-packages (0.6.11)\n",
      "Requirement already satisfied: torchvision in /home/frederik/anaconda3/lib/python3.9/site-packages (from timm) (0.13.1a0)\n",
      "Requirement already satisfied: huggingface-hub in /home/frederik/anaconda3/lib/python3.9/site-packages (from timm) (0.10.0)\n",
      "Requirement already satisfied: torch>=1.7 in /home/frederik/anaconda3/lib/python3.9/site-packages (from timm) (1.12.1)\n",
      "Requirement already satisfied: pyyaml in /home/frederik/anaconda3/lib/python3.9/site-packages (from timm) (6.0)\n",
      "Requirement already satisfied: typing_extensions in /home/frederik/anaconda3/lib/python3.9/site-packages (from torch>=1.7->timm) (4.4.0)\n",
      "Requirement already satisfied: filelock in /home/frederik/anaconda3/lib/python3.9/site-packages (from huggingface-hub->timm) (3.6.0)\n",
      "Requirement already satisfied: requests in /home/frederik/anaconda3/lib/python3.9/site-packages (from huggingface-hub->timm) (2.28.1)\n",
      "Requirement already satisfied: packaging>=20.9 in /home/frederik/anaconda3/lib/python3.9/site-packages (from huggingface-hub->timm) (21.3)\n",
      "Requirement already satisfied: tqdm in /home/frederik/anaconda3/lib/python3.9/site-packages (from huggingface-hub->timm) (4.64.1)\n",
      "Requirement already satisfied: pillow!=8.3.*,>=5.3.0 in /home/frederik/anaconda3/lib/python3.9/site-packages (from torchvision->timm) (9.3.0)\n",
      "Requirement already satisfied: numpy in /home/frederik/anaconda3/lib/python3.9/site-packages (from torchvision->timm) (1.21.5)\n",
      "Requirement already satisfied: pyparsing!=3.0.5,>=2.0.2 in /home/frederik/anaconda3/lib/python3.9/site-packages (from packaging>=20.9->huggingface-hub->timm) (3.0.9)\n",
      "Requirement already satisfied: urllib3<1.27,>=1.21.1 in /home/frederik/anaconda3/lib/python3.9/site-packages (from requests->huggingface-hub->timm) (1.26.13)\n",
      "Requirement already satisfied: idna<4,>=2.5 in /home/frederik/anaconda3/lib/python3.9/site-packages (from requests->huggingface-hub->timm) (3.4)\n",
      "Requirement already satisfied: certifi>=2017.4.17 in /home/frederik/anaconda3/lib/python3.9/site-packages (from requests->huggingface-hub->timm) (2022.12.7)\n",
      "Requirement already satisfied: charset-normalizer<3,>=2 in /home/frederik/anaconda3/lib/python3.9/site-packages (from requests->huggingface-hub->timm) (2.0.4)\n",
      "Note: you may need to restart the kernel to use updated packages.\n",
      "Requirement already satisfied: pytorch_lightning in /home/frederik/anaconda3/lib/python3.9/site-packages (1.7.7)\n",
      "Requirement already satisfied: tensorboard>=2.9.1 in /home/frederik/anaconda3/lib/python3.9/site-packages (from pytorch_lightning) (2.10.0)\n",
      "Requirement already satisfied: tqdm>=4.57.0 in /home/frederik/anaconda3/lib/python3.9/site-packages (from pytorch_lightning) (4.64.1)\n",
      "Requirement already satisfied: fsspec[http]!=2021.06.0,>=2021.05.0 in /home/frederik/anaconda3/lib/python3.9/site-packages (from pytorch_lightning) (2022.11.0)\n",
      "Requirement already satisfied: torch>=1.9.* in /home/frederik/anaconda3/lib/python3.9/site-packages (from pytorch_lightning) (1.12.1)\n",
      "Requirement already satisfied: packaging>=17.0 in /home/frederik/anaconda3/lib/python3.9/site-packages (from pytorch_lightning) (21.3)\n",
      "Requirement already satisfied: PyYAML>=5.4 in /home/frederik/anaconda3/lib/python3.9/site-packages (from pytorch_lightning) (6.0)\n",
      "Requirement already satisfied: typing-extensions>=4.0.0 in /home/frederik/anaconda3/lib/python3.9/site-packages (from pytorch_lightning) (4.4.0)\n",
      "Requirement already satisfied: pyDeprecate>=0.3.1 in /home/frederik/anaconda3/lib/python3.9/site-packages (from pytorch_lightning) (0.3.2)\n",
      "Requirement already satisfied: numpy>=1.17.2 in /home/frederik/anaconda3/lib/python3.9/site-packages (from pytorch_lightning) (1.21.5)\n",
      "Requirement already satisfied: torchmetrics>=0.7.0 in /home/frederik/anaconda3/lib/python3.9/site-packages (from pytorch_lightning) (0.10.0)\n",
      "Requirement already satisfied: requests in /home/frederik/anaconda3/lib/python3.9/site-packages (from fsspec[http]!=2021.06.0,>=2021.05.0->pytorch_lightning) (2.28.1)\n",
      "Requirement already satisfied: aiohttp!=4.0.0a0,!=4.0.0a1 in /home/frederik/anaconda3/lib/python3.9/site-packages (from fsspec[http]!=2021.06.0,>=2021.05.0->pytorch_lightning) (3.8.3)\n",
      "Requirement already satisfied: pyparsing!=3.0.5,>=2.0.2 in /home/frederik/anaconda3/lib/python3.9/site-packages (from packaging>=17.0->pytorch_lightning) (3.0.9)\n",
      "Requirement already satisfied: grpcio>=1.24.3 in /home/frederik/anaconda3/lib/python3.9/site-packages (from tensorboard>=2.9.1->pytorch_lightning) (1.42.0)\n",
      "Requirement already satisfied: protobuf<3.20,>=3.9.2 in /home/frederik/anaconda3/lib/python3.9/site-packages (from tensorboard>=2.9.1->pytorch_lightning) (3.19.6)\n",
      "Requirement already satisfied: setuptools>=41.0.0 in /home/frederik/anaconda3/lib/python3.9/site-packages (from tensorboard>=2.9.1->pytorch_lightning) (65.5.0)\n",
      "Requirement already satisfied: tensorboard-plugin-wit>=1.6.0 in /home/frederik/anaconda3/lib/python3.9/site-packages (from tensorboard>=2.9.1->pytorch_lightning) (1.8.1)\n",
      "Requirement already satisfied: absl-py>=0.4 in /home/frederik/anaconda3/lib/python3.9/site-packages (from tensorboard>=2.9.1->pytorch_lightning) (1.3.0)\n",
      "Requirement already satisfied: google-auth-oauthlib<0.5,>=0.4.1 in /home/frederik/anaconda3/lib/python3.9/site-packages (from tensorboard>=2.9.1->pytorch_lightning) (0.4.4)\n",
      "Requirement already satisfied: werkzeug>=1.0.1 in /home/frederik/anaconda3/lib/python3.9/site-packages (from tensorboard>=2.9.1->pytorch_lightning) (2.0.3)\n",
      "Requirement already satisfied: markdown>=2.6.8 in /home/frederik/anaconda3/lib/python3.9/site-packages (from tensorboard>=2.9.1->pytorch_lightning) (3.4.1)\n",
      "Requirement already satisfied: tensorboard-data-server<0.7.0,>=0.6.0 in /home/frederik/anaconda3/lib/python3.9/site-packages (from tensorboard>=2.9.1->pytorch_lightning) (0.6.1)\n",
      "Requirement already satisfied: google-auth<3,>=1.6.3 in /home/frederik/anaconda3/lib/python3.9/site-packages (from tensorboard>=2.9.1->pytorch_lightning) (2.6.0)\n",
      "Requirement already satisfied: wheel>=0.26 in /home/frederik/anaconda3/lib/python3.9/site-packages (from tensorboard>=2.9.1->pytorch_lightning) (0.37.1)\n",
      "Requirement already satisfied: yarl<2.0,>=1.0 in /home/frederik/anaconda3/lib/python3.9/site-packages (from aiohttp!=4.0.0a0,!=4.0.0a1->fsspec[http]!=2021.06.0,>=2021.05.0->pytorch_lightning) (1.8.1)\n",
      "Requirement already satisfied: attrs>=17.3.0 in /home/frederik/anaconda3/lib/python3.9/site-packages (from aiohttp!=4.0.0a0,!=4.0.0a1->fsspec[http]!=2021.06.0,>=2021.05.0->pytorch_lightning) (22.1.0)\n",
      "Requirement already satisfied: aiosignal>=1.1.2 in /home/frederik/anaconda3/lib/python3.9/site-packages (from aiohttp!=4.0.0a0,!=4.0.0a1->fsspec[http]!=2021.06.0,>=2021.05.0->pytorch_lightning) (1.2.0)\n",
      "Requirement already satisfied: charset-normalizer<3.0,>=2.0 in /home/frederik/anaconda3/lib/python3.9/site-packages (from aiohttp!=4.0.0a0,!=4.0.0a1->fsspec[http]!=2021.06.0,>=2021.05.0->pytorch_lightning) (2.0.4)\n",
      "Requirement already satisfied: frozenlist>=1.1.1 in /home/frederik/anaconda3/lib/python3.9/site-packages (from aiohttp!=4.0.0a0,!=4.0.0a1->fsspec[http]!=2021.06.0,>=2021.05.0->pytorch_lightning) (1.3.3)\n",
      "Requirement already satisfied: async-timeout<5.0,>=4.0.0a3 in /home/frederik/anaconda3/lib/python3.9/site-packages (from aiohttp!=4.0.0a0,!=4.0.0a1->fsspec[http]!=2021.06.0,>=2021.05.0->pytorch_lightning) (4.0.2)\n",
      "Requirement already satisfied: multidict<7.0,>=4.5 in /home/frederik/anaconda3/lib/python3.9/site-packages (from aiohttp!=4.0.0a0,!=4.0.0a1->fsspec[http]!=2021.06.0,>=2021.05.0->pytorch_lightning) (6.0.2)\n",
      "Requirement already satisfied: pyasn1-modules>=0.2.1 in /home/frederik/anaconda3/lib/python3.9/site-packages (from google-auth<3,>=1.6.3->tensorboard>=2.9.1->pytorch_lightning) (0.2.8)\n",
      "Requirement already satisfied: cachetools<6.0,>=2.0.0 in /home/frederik/anaconda3/lib/python3.9/site-packages (from google-auth<3,>=1.6.3->tensorboard>=2.9.1->pytorch_lightning) (4.2.2)\n",
      "Requirement already satisfied: six>=1.9.0 in /home/frederik/anaconda3/lib/python3.9/site-packages (from google-auth<3,>=1.6.3->tensorboard>=2.9.1->pytorch_lightning) (1.16.0)\n",
      "Requirement already satisfied: rsa<5,>=3.1.4 in /home/frederik/anaconda3/lib/python3.9/site-packages (from google-auth<3,>=1.6.3->tensorboard>=2.9.1->pytorch_lightning) (4.7.2)\n",
      "Requirement already satisfied: requests-oauthlib>=0.7.0 in /home/frederik/anaconda3/lib/python3.9/site-packages (from google-auth-oauthlib<0.5,>=0.4.1->tensorboard>=2.9.1->pytorch_lightning) (1.3.0)\n",
      "Requirement already satisfied: importlib-metadata>=4.4 in /home/frederik/anaconda3/lib/python3.9/site-packages (from markdown>=2.6.8->tensorboard>=2.9.1->pytorch_lightning) (4.11.3)\n",
      "Requirement already satisfied: idna<4,>=2.5 in /home/frederik/anaconda3/lib/python3.9/site-packages (from requests->fsspec[http]!=2021.06.0,>=2021.05.0->pytorch_lightning) (3.4)\n",
      "Requirement already satisfied: urllib3<1.27,>=1.21.1 in /home/frederik/anaconda3/lib/python3.9/site-packages (from requests->fsspec[http]!=2021.06.0,>=2021.05.0->pytorch_lightning) (1.26.13)\n",
      "Requirement already satisfied: certifi>=2017.4.17 in /home/frederik/anaconda3/lib/python3.9/site-packages (from requests->fsspec[http]!=2021.06.0,>=2021.05.0->pytorch_lightning) (2022.12.7)\n",
      "Requirement already satisfied: zipp>=0.5 in /home/frederik/anaconda3/lib/python3.9/site-packages (from importlib-metadata>=4.4->markdown>=2.6.8->tensorboard>=2.9.1->pytorch_lightning) (3.8.0)\n",
      "Requirement already satisfied: pyasn1<0.5.0,>=0.4.6 in /home/frederik/anaconda3/lib/python3.9/site-packages (from pyasn1-modules>=0.2.1->google-auth<3,>=1.6.3->tensorboard>=2.9.1->pytorch_lightning) (0.4.8)\n",
      "Requirement already satisfied: oauthlib>=3.0.0 in /home/frederik/anaconda3/lib/python3.9/site-packages (from requests-oauthlib>=0.7.0->google-auth-oauthlib<0.5,>=0.4.1->tensorboard>=2.9.1->pytorch_lightning) (3.2.1)\n",
      "Note: you may need to restart the kernel to use updated packages.\n",
      "Looking in links: timm-with-dependencies\n",
      "Requirement already satisfied: timm in /home/frederik/anaconda3/lib/python3.9/site-packages (0.6.11)\n",
      "Requirement already satisfied: torchvision in /home/frederik/anaconda3/lib/python3.9/site-packages (from timm) (0.13.1a0)\n",
      "Requirement already satisfied: huggingface-hub in /home/frederik/anaconda3/lib/python3.9/site-packages (from timm) (0.10.0)\n",
      "Requirement already satisfied: torch>=1.7 in /home/frederik/anaconda3/lib/python3.9/site-packages (from timm) (1.12.1)\n",
      "Requirement already satisfied: pyyaml in /home/frederik/anaconda3/lib/python3.9/site-packages (from timm) (6.0)\n",
      "Requirement already satisfied: typing_extensions in /home/frederik/anaconda3/lib/python3.9/site-packages (from torch>=1.7->timm) (4.4.0)\n",
      "Requirement already satisfied: packaging>=20.9 in /home/frederik/anaconda3/lib/python3.9/site-packages (from huggingface-hub->timm) (21.3)\n",
      "Requirement already satisfied: requests in /home/frederik/anaconda3/lib/python3.9/site-packages (from huggingface-hub->timm) (2.28.1)\n",
      "Requirement already satisfied: filelock in /home/frederik/anaconda3/lib/python3.9/site-packages (from huggingface-hub->timm) (3.6.0)\n",
      "Requirement already satisfied: tqdm in /home/frederik/anaconda3/lib/python3.9/site-packages (from huggingface-hub->timm) (4.64.1)\n",
      "Requirement already satisfied: numpy in /home/frederik/anaconda3/lib/python3.9/site-packages (from torchvision->timm) (1.21.5)\n",
      "Requirement already satisfied: pillow!=8.3.*,>=5.3.0 in /home/frederik/anaconda3/lib/python3.9/site-packages (from torchvision->timm) (9.3.0)\n",
      "Requirement already satisfied: pyparsing!=3.0.5,>=2.0.2 in /home/frederik/anaconda3/lib/python3.9/site-packages (from packaging>=20.9->huggingface-hub->timm) (3.0.9)\n",
      "Requirement already satisfied: certifi>=2017.4.17 in /home/frederik/anaconda3/lib/python3.9/site-packages (from requests->huggingface-hub->timm) (2022.12.7)\n",
      "Requirement already satisfied: charset-normalizer<3,>=2 in /home/frederik/anaconda3/lib/python3.9/site-packages (from requests->huggingface-hub->timm) (2.0.4)\n",
      "Requirement already satisfied: urllib3<1.27,>=1.21.1 in /home/frederik/anaconda3/lib/python3.9/site-packages (from requests->huggingface-hub->timm) (1.26.13)\n",
      "Requirement already satisfied: idna<4,>=2.5 in /home/frederik/anaconda3/lib/python3.9/site-packages (from requests->huggingface-hub->timm) (3.4)\n",
      "Note: you may need to restart the kernel to use updated packages.\n",
      "Requirement already satisfied: dicomsdl in /home/frederik/anaconda3/lib/python3.9/site-packages (0.109.1)\n",
      "Note: you may need to restart the kernel to use updated packages.\n"
     ]
    }
   ],
   "source": [
    "if rerun:\n",
    "    #%unzip -q ../input/timm-with-dependencies/timm_all -d timm-with-dependencies\n",
    "    %pip install timm\n",
    "\n",
    "    %pip install pytorch_lightning\n",
    "    %pip install --no-index --find-links timm-with-dependencies timm\n",
    "    #%pip install /kaggle/input/dicomsdl-offline-installer/dicomsdl-0.109.1-cp37-cp37m-manylinux_2_12_x86_64.manylinux2010_x86_64.whl\n",
    "    %pip install dicomsdl\n",
    "import torch\n",
    "from sklearn.model_selection import StratifiedKFold\n",
    "from collections import defaultdict\n",
    "import pandas as pd\n",
    "import matplotlib.pyplot as plt\n",
    "import seaborn\n",
    "import os\n",
    "import pytorch_lightning as pl\n",
    "import numpy as np\n",
    "from pdb import set_trace\n",
    "%matplotlib inline\n"
   ]
  },
  {
   "cell_type": "code",
   "execution_count": 3,
   "metadata": {},
   "outputs": [],
   "source": [
    "\n",
    "rerun = False\n"
   ]
  },
  {
   "cell_type": "code",
   "execution_count": 4,
   "metadata": {},
   "outputs": [
    {
     "ename": "PermissionError",
     "evalue": "[Errno 13] Permission denied: '/kaggle'",
     "output_type": "error",
     "traceback": [
      "\u001b[0;31m---------------------------------------------------------------------------\u001b[0m",
      "\u001b[0;31mPermissionError\u001b[0m                           Traceback (most recent call last)",
      "\u001b[0;32m/tmp/ipykernel_129557/1227536928.py\u001b[0m in \u001b[0;36m<module>\u001b[0;34m\u001b[0m\n\u001b[1;32m      9\u001b[0m \u001b[0;34m\u001b[0m\u001b[0m\n\u001b[1;32m     10\u001b[0m \u001b[0mMODEL_PATH\u001b[0m \u001b[0;34m=\u001b[0m \u001b[0;34m'/kaggle/models/'\u001b[0m\u001b[0;34m\u001b[0m\u001b[0;34m\u001b[0m\u001b[0m\n\u001b[0;32m---> 11\u001b[0;31m \u001b[0;32mif\u001b[0m \u001b[0;32mnot\u001b[0m \u001b[0mos\u001b[0m\u001b[0;34m.\u001b[0m\u001b[0mpath\u001b[0m\u001b[0;34m.\u001b[0m\u001b[0misdir\u001b[0m\u001b[0;34m(\u001b[0m\u001b[0mMODEL_PATH\u001b[0m\u001b[0;34m)\u001b[0m\u001b[0;34m:\u001b[0m \u001b[0mos\u001b[0m\u001b[0;34m.\u001b[0m\u001b[0mmakedirs\u001b[0m\u001b[0;34m(\u001b[0m\u001b[0mMODEL_PATH\u001b[0m\u001b[0;34m)\u001b[0m\u001b[0;34m\u001b[0m\u001b[0;34m\u001b[0m\u001b[0m\n\u001b[0m\u001b[1;32m     12\u001b[0m \u001b[0mlabelsmoothing\u001b[0m \u001b[0;34m=\u001b[0m \u001b[0;34m\"no\"\u001b[0m\u001b[0;34m\u001b[0m\u001b[0;34m\u001b[0m\u001b[0m\n\u001b[1;32m     13\u001b[0m \u001b[0;32mif\u001b[0m \u001b[0mtorch\u001b[0m\u001b[0;34m.\u001b[0m\u001b[0mcuda\u001b[0m\u001b[0;34m.\u001b[0m\u001b[0mis_available\u001b[0m\u001b[0;34m(\u001b[0m\u001b[0;34m)\u001b[0m\u001b[0;34m:\u001b[0m\u001b[0;34m\u001b[0m\u001b[0;34m\u001b[0m\u001b[0m\n",
      "\u001b[0;32m~/anaconda3/lib/python3.9/os.py\u001b[0m in \u001b[0;36mmakedirs\u001b[0;34m(name, mode, exist_ok)\u001b[0m\n\u001b[1;32m    213\u001b[0m     \u001b[0;32mif\u001b[0m \u001b[0mhead\u001b[0m \u001b[0;32mand\u001b[0m \u001b[0mtail\u001b[0m \u001b[0;32mand\u001b[0m \u001b[0;32mnot\u001b[0m \u001b[0mpath\u001b[0m\u001b[0;34m.\u001b[0m\u001b[0mexists\u001b[0m\u001b[0;34m(\u001b[0m\u001b[0mhead\u001b[0m\u001b[0;34m)\u001b[0m\u001b[0;34m:\u001b[0m\u001b[0;34m\u001b[0m\u001b[0;34m\u001b[0m\u001b[0m\n\u001b[1;32m    214\u001b[0m         \u001b[0;32mtry\u001b[0m\u001b[0;34m:\u001b[0m\u001b[0;34m\u001b[0m\u001b[0;34m\u001b[0m\u001b[0m\n\u001b[0;32m--> 215\u001b[0;31m             \u001b[0mmakedirs\u001b[0m\u001b[0;34m(\u001b[0m\u001b[0mhead\u001b[0m\u001b[0;34m,\u001b[0m \u001b[0mexist_ok\u001b[0m\u001b[0;34m=\u001b[0m\u001b[0mexist_ok\u001b[0m\u001b[0;34m)\u001b[0m\u001b[0;34m\u001b[0m\u001b[0;34m\u001b[0m\u001b[0m\n\u001b[0m\u001b[1;32m    216\u001b[0m         \u001b[0;32mexcept\u001b[0m \u001b[0mFileExistsError\u001b[0m\u001b[0;34m:\u001b[0m\u001b[0;34m\u001b[0m\u001b[0;34m\u001b[0m\u001b[0m\n\u001b[1;32m    217\u001b[0m             \u001b[0;31m# Defeats race condition when another thread created the path\u001b[0m\u001b[0;34m\u001b[0m\u001b[0;34m\u001b[0m\u001b[0m\n",
      "\u001b[0;32m~/anaconda3/lib/python3.9/os.py\u001b[0m in \u001b[0;36mmakedirs\u001b[0;34m(name, mode, exist_ok)\u001b[0m\n\u001b[1;32m    223\u001b[0m             \u001b[0;32mreturn\u001b[0m\u001b[0;34m\u001b[0m\u001b[0;34m\u001b[0m\u001b[0m\n\u001b[1;32m    224\u001b[0m     \u001b[0;32mtry\u001b[0m\u001b[0;34m:\u001b[0m\u001b[0;34m\u001b[0m\u001b[0;34m\u001b[0m\u001b[0m\n\u001b[0;32m--> 225\u001b[0;31m         \u001b[0mmkdir\u001b[0m\u001b[0;34m(\u001b[0m\u001b[0mname\u001b[0m\u001b[0;34m,\u001b[0m \u001b[0mmode\u001b[0m\u001b[0;34m)\u001b[0m\u001b[0;34m\u001b[0m\u001b[0;34m\u001b[0m\u001b[0m\n\u001b[0m\u001b[1;32m    226\u001b[0m     \u001b[0;32mexcept\u001b[0m \u001b[0mOSError\u001b[0m\u001b[0;34m:\u001b[0m\u001b[0;34m\u001b[0m\u001b[0;34m\u001b[0m\u001b[0m\n\u001b[1;32m    227\u001b[0m         \u001b[0;31m# Cannot rely on checking for EEXIST, since the operating system\u001b[0m\u001b[0;34m\u001b[0m\u001b[0;34m\u001b[0m\u001b[0m\n",
      "\u001b[0;31mPermissionError\u001b[0m: [Errno 13] Permission denied: '/kaggle'"
     ]
    }
   ],
   "source": [
    "\n",
    "NUM_EPOCHS = 1\n",
    "NUM_SPLITS = 4\n",
    "\n",
    "RESIZE_TO = (1024, 1024)\n",
    "\n",
    "DATA_PATH = '/kaggle/input/rsna-breast-cancer-detection'\n",
    "TRAIN_IMAGE_DIR = '/home/frederik/Downloads/train_images_processed_1024_together'\n",
    "TEST_DICOM_DIR = '/kaggle/input/rsna-breast-cancer-detection/test_images'\n",
    "\n",
    "MODEL_PATH = '/kaggle/models/'\n",
    "if not os.path.isdir(MODEL_PATH): os.makedirs(MODEL_PATH)\n",
    "labelsmoothing = \"no\"\n",
    "if torch.cuda.is_available():\n",
    "    label_smoothing_weights = label_smoothing_weights.cuda()"
   ]
  },
  {
   "attachments": {},
   "cell_type": "markdown",
   "metadata": {},
   "source": [
    "# Creating stratified splits for training\n"
   ]
  },
  {
   "attachments": {},
   "cell_type": "markdown",
   "metadata": {},
   "source": [
    "train_csv = pd.read_csv(f'{DATA_PATH}/train.csv')\n",
    "patient_id_any_cancer = train_csv.groupby('patient_id').cancer.max().reset_index()\n",
    "skf = StratifiedKFold(NUM_SPLITS, shuffle=True, random_state=42)\n",
    "splits = list(skf.split(patient_id_any_cancer.patient_id, patient_id_any_cancer.cancer))"
   ]
  },
  {
   "attachments": {},
   "cell_type": "markdown",
   "metadata": {},
   "source": [
    "# Histograms"
   ]
  },
  {
   "cell_type": "code",
   "execution_count": null,
   "metadata": {},
   "outputs": [],
   "source": [
    "def hist(data, col_name,freq = False, pltdim = (1,1)):\n",
    "    if freq:\n",
    "        raise NotImplemented\n",
    "    (plt_r, plt_c) = pltdim\n",
    "    if not(plt_r==1, plt_c==1):\n",
    "        raise NotImplemented\n",
    "    return plt.hist(data.loc[:, col_name])\n",
    "#hist(train_csv, \"view\")\n",
    "print(f'Share of cancer in dataframe: {np.mean(train_csv.loc[:,\"cancer\"])}')\n",
    "hist(train_csv, \"machine_id\")\n",
    "train_csv.head()\n",
    "np.unique(train_csv.loc[:,\"machine_id\"])\n",
    "# might normalize based on machine id."
   ]
  },
  {
   "attachments": {},
   "cell_type": "markdown",
   "metadata": {},
   "source": [
    "# Helper functions"
   ]
  },
  {
   "cell_type": "code",
   "execution_count": null,
   "metadata": {},
   "outputs": [],
   "source": []
  }
 ],
 "metadata": {
  "kernelspec": {
   "display_name": "base",
   "language": "python",
   "name": "python3"
  },
  "language_info": {
   "codemirror_mode": {
    "name": "ipython",
    "version": 3
   },
   "file_extension": ".py",
   "mimetype": "text/x-python",
   "name": "python",
   "nbconvert_exporter": "python",
   "pygments_lexer": "ipython3",
   "version": "3.9.15"
  },
  "orig_nbformat": 4,
  "vscode": {
   "interpreter": {
    "hash": "5a0d37fd4d2d653b81c572b54896dbb094a437ebb9b49fa63d715035d1c97577"
   }
  }
 },
 "nbformat": 4,
 "nbformat_minor": 2
}
